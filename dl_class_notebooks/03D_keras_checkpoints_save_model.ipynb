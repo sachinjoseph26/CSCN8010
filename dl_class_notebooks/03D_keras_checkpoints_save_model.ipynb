{
 "cells": [
  {
   "cell_type": "markdown",
   "metadata": {},
   "source": [
    "Here's how to save the model with the best validation loss in Keras during training:"
   ]
  },
  {
   "cell_type": "code",
   "execution_count": 1,
   "metadata": {},
   "outputs": [],
   "source": [
    "from keras.models import Sequential\n",
    "from keras.layers import Dense\n",
    "from keras.callbacks import ModelCheckpoint"
   ]
  },
  {
   "cell_type": "markdown",
   "metadata": {},
   "source": [
    "Create Your Keras Model:"
   ]
  },
  {
   "cell_type": "code",
   "execution_count": 3,
   "metadata": {},
   "outputs": [],
   "source": [
    "model = Sequential()\n",
    "model.add(Dense(64, activation='relu', input_shape=(10,))) \n",
    "model.add(Dense(1, activation='linear'))\n",
    "\n",
    "model.compile(optimizer='adam', loss='mse', metrics=['accuracy'])"
   ]
  },
  {
   "cell_type": "markdown",
   "metadata": {},
   "source": [
    "Use the `ModelCheckpoint` Callback:"
   ]
  },
  {
   "cell_type": "code",
   "execution_count": 4,
   "metadata": {},
   "outputs": [],
   "source": [
    "checkpoint_filepath = 'best_model.hdf5'  # Filepath where you want to save the model\n",
    "\n",
    "model_checkpoint_callback = ModelCheckpoint(\n",
    "    filepath=checkpoint_filepath,\n",
    "    save_weights_only=False,  # Optionally save only weights instead of the full model\n",
    "    monitor='val_loss',\n",
    "    mode='min',  # Monitor validation loss and save on minimum\n",
    "    save_best_only=True)"
   ]
  },
  {
   "cell_type": "markdown",
   "metadata": {},
   "source": [
    "Train Your Model:"
   ]
  },
  {
   "cell_type": "markdown",
   "metadata": {},
   "source": [
    "_note that this will result in an error in this case since x_train and y_train are not defined._"
   ]
  },
  {
   "cell_type": "code",
   "execution_count": null,
   "metadata": {},
   "outputs": [],
   "source": [
    "model.fit(X_train, y_train,\n",
    "          epochs=20,\n",
    "          validation_data=(X_val, y_val),\n",
    "          callbacks=[model_checkpoint_callback])"
   ]
  },
  {
   "cell_type": "markdown",
   "metadata": {},
   "source": [
    "**Explanation:**\n",
    "\n",
    "* **`ModelCheckpoint` Callback:**  This callback is the key to saving your best model.\n",
    "    * **`filepath`:** The path where you want to save the model weights. Keras can save models in the HDF5 format.\n",
    "    * **`save_weights_only`:** If set to `True`, only the model weights will be saved, reducing file size. If `False`, the full model architecture, as well as weights and optimizer state, will be saved. \n",
    "    * **`monitor`:** The quantity to monitor. Here we're using 'val_loss' (validation loss).\n",
    "    * **`mode`:**  Specifies whether 'min' or 'max' values of the monitored quantity are best. We want to minimize validation loss.\n",
    "    * **`save_best_only`:**  Ensures that only the model with the lowest validation loss is saved.\n",
    "\n",
    "**How It Works**\n",
    "\n",
    "1. During training, Keras will monitor the validation loss after each epoch.\n",
    "2. If the current validation loss is better (lower) than the previously saved best loss, the `ModelCheckpoint` callback will save the model at the specified filepath.\n",
    "3. As the training continues, the callback keeps updating the saved model if improvements to the validation loss are detected.\n",
    "\n",
    "**Loading the Saved Model**\n"
   ]
  },
  {
   "cell_type": "code",
   "execution_count": null,
   "metadata": {},
   "outputs": [],
   "source": [
    "from keras.models import load_model\n",
    "\n",
    "best_model = load_model('best_model.hdf5') "
   ]
  }
 ],
 "metadata": {
  "kernelspec": {
   "display_name": "tensorflow_cpu",
   "language": "python",
   "name": "python3"
  },
  "language_info": {
   "codemirror_mode": {
    "name": "ipython",
    "version": 3
   },
   "file_extension": ".py",
   "mimetype": "text/x-python",
   "name": "python",
   "nbconvert_exporter": "python",
   "pygments_lexer": "ipython3",
   "version": "3.11.3"
  }
 },
 "nbformat": 4,
 "nbformat_minor": 2
}
